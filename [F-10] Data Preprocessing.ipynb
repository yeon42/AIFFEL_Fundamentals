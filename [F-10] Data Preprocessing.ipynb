{
 "cells": [
  {
   "cell_type": "markdown",
   "id": "f21df185",
   "metadata": {},
   "source": [
    "# 다양한 데이터 전처리 기법\n",
    "아무 처리가 되지 않은 raw data를 넣는 것보다 전처리가 이루어진 데이터를 모델에 넣는 것이 훨씬 성능이 좋아질 것이다.\n",
    "\n",
    "1. 결측치\n",
    "2. 중복된 데이터\n",
    "3. 이상치\n",
    "4. 정규화\n",
    "5. 원-핫 인코딩\n",
    "6. 구간화"
   ]
  },
  {
   "cell_type": "markdown",
   "id": "450336b7",
   "metadata": {},
   "source": [
    "## 데이터 준비\n",
    "[관세청 수출입 무역 통계][1] 에서 가공한 데이터 이용하기\n",
    "\n",
    "[1]:https://unipass.customs.go.kr/ets/index.do "
   ]
  },
  {
   "cell_type": "code",
   "execution_count": null,
   "id": "53a83367",
   "metadata": {},
   "outputs": [],
   "source": [
    "import pandas as pd\n",
    "import numpy as np\n",
    "import matplotlib.pyplot as plt\n",
    "import os"
   ]
  },
  {
   "cell_type": "code",
   "execution_count": null,
   "id": "bd23d392",
   "metadata": {},
   "outputs": [],
   "source": [
    "trade = pd.read_csv(\"trade.csv\")\n",
    "trade.head()"
   ]
  },
  {
   "cell_type": "markdown",
   "id": "16caf174",
   "metadata": {},
   "source": [
    "> 무역지수: 수출금액 - 수입금액"
   ]
  },
  {
   "cell_type": "code",
   "execution_count": null,
   "id": "1c603a58",
   "metadata": {},
   "outputs": [],
   "source": []
  },
  {
   "cell_type": "markdown",
   "id": "bae38df7",
   "metadata": {},
   "source": [
    "## 2. 결측치(Missing Data)\n",
    "1. 결측치가 있는 데이터 제거하기\n",
    "2. 결측치를 어떤 값으로 대체하기\n",
    "- 대체할 경우 데이터마다 특성을 반영하자"
   ]
  },
  {
   "cell_type": "code",
   "execution_count": null,
   "id": "56779f5b",
   "metadata": {},
   "outputs": [],
   "source": [
    "print('전체 데이터 수: ', len(trade))"
   ]
  },
  {
   "cell_type": "code",
   "execution_count": null,
   "id": "7b217007",
   "metadata": {},
   "outputs": [],
   "source": [
    "print('컬럼별 결측치 개수: ')\n",
    "print(len(trade) - trade.count())"
   ]
  },
  {
   "cell_type": "markdown",
   "id": "22ce5720",
   "metadata": {},
   "source": [
    "> `기타사항`은 모두 결측치임을 확인할 수 있다. <br/>\n",
    "> 아무 정보가 없는 컬럼이므로 삭제하자"
   ]
  },
  {
   "cell_type": "code",
   "execution_count": null,
   "id": "0a2f7f29",
   "metadata": {},
   "outputs": [],
   "source": [
    "# 결측치 있는 컬럼 삭제\n",
    "trade = trade.drop('기타사항', axis=1) # axis=1: 열\n",
    "trade.head()"
   ]
  },
  {
   "cell_type": "markdown",
   "id": "ca9bf942",
   "metadata": {},
   "source": [
    "> 결측치가 있는 행 살펴보기\n",
    "- `DataFrame.isnull()`: 데이터마다 결측치 여부를 True, False로 반환하여\n",
    "- `DataFrame.any(axis=1)`: 행마다 하나라도 True가 있으면 True, 아니면 False\n",
    "\n",
    "> ✔️ (axis=1인 이유는 한 열씩 차례로 보기 때문)"
   ]
  },
  {
   "cell_type": "code",
   "execution_count": null,
   "id": "ed56d7de",
   "metadata": {},
   "outputs": [],
   "source": [
    "# isnull(): 데이터마다 결측치 여부를 True, False로 반환\n",
    "trade.isnull()"
   ]
  },
  {
   "cell_type": "code",
   "execution_count": null,
   "id": "1491a2a5",
   "metadata": {},
   "outputs": [],
   "source": [
    "# any: 행마다 하나라도 True가 있으면 True, 그렇지 않으면 False를 반환\n",
    "trade.isnull().any(axis=1)"
   ]
  },
  {
   "cell_type": "code",
   "execution_count": null,
   "id": "19e03b61",
   "metadata": {},
   "outputs": [],
   "source": [
    "# 값이 True인 데이터(Null값이 하나라도 있는 데이터)만 추출해주기\n",
    "trade[trade.isnull().any(axis=1)]"
   ]
  },
  {
   "cell_type": "markdown",
   "id": "a3724882",
   "metadata": {},
   "source": [
    "> index 191의 null값은 특정 값으로 대체 <br/>\n",
    "> index 196, 197, 198은 결측치가 너무 많아므로 제거하는 것이 바람직하겠다.\n",
    "\n",
    "> `dropna`: 결측치 삭제해주는 메서드\n",
    "- `subset`으로 제거해줄 특정 칼럼들을 설정했는데, `how` 옵션을 'all'로 주어 선택한 컬럼 전부가 결측치인 행만 삭제하겠다는 옵션을 준다.\n",
    "- `inplace` 옵션으로 해당 DatFrame 내부에서 바로 적용시키기"
   ]
  },
  {
   "cell_type": "code",
   "execution_count": null,
   "id": "5a70bfdf",
   "metadata": {},
   "outputs": [],
   "source": [
    "# dropna: 결측치 삭제\n",
    "trade.dropna(how='all', subset=['수출건수', '수출금액', '수입건수', '수입금액', '무역수지'], inplace=True)\n",
    "\n",
    "# subset: 특정 컬럼 선택\n",
    "# how - all: 컬럼 전부가 결측치인 행을 삭제하겠다\n",
    "    # any: 하나라도 결측치면 삭제하겠t다\n",
    "# inplace: 데이터프레임 내부에 바로 적용시킴"
   ]
  },
  {
   "cell_type": "code",
   "execution_count": null,
   "id": "58e7669a",
   "metadata": {},
   "outputs": [],
   "source": [
    "trade[trade.isnull().any(axis=1)]"
   ]
  },
  {
   "cell_type": "markdown",
   "id": "fd9fba83",
   "metadata": {},
   "source": [
    "* 수치형 데이터 보완하기 (index 191)\n",
    "1. 특정 값 지정\n",
    "    - 결측치가 많은 경우 같은 값으로 대체된다면 데이터 분산이 실제보다 작아지는 문제\n",
    "2. 평균, 중앙값으로 대체\n",
    "    - 1번과 같은 문제\n",
    "3. 다른 데이터를 이용해 예측값으로 대체\n",
    "4. 시계열 특성을 가진 데이터의 경우 앞뒤 데이터를 통해 결측치 대체\n",
    "    - ex) 기온 측정 결측치 -> 전후 데이터의 평균으로 보완"
   ]
  },
  {
   "cell_type": "code",
   "execution_count": null,
   "id": "cee8321b",
   "metadata": {},
   "outputs": [],
   "source": [
    "# 위의 4번 방법을 통해 보완하기\n",
    "trade.loc[[188, 191, 194]]\n",
    "\n",
    "# [[]]: 해당 row 반환"
   ]
  },
  {
   "cell_type": "code",
   "execution_count": null,
   "id": "1a70eef2",
   "metadata": {},
   "outputs": [],
   "source": [
    "# '수출금액': 이전달, 다음달의 평균으로 채우기\n",
    "trade.loc[191, '수출금액'] = (trade.loc[188, '수출금액'] + trade.loc[194, '수출금액']) / 2\n",
    "trade.loc[[191]]"
   ]
  },
  {
   "cell_type": "code",
   "execution_count": null,
   "id": "b32e5d0f",
   "metadata": {},
   "outputs": [],
   "source": [
    "# '무역수지': 수출금액 - 수입금액\n",
    "trade.loc[191, '무역수지'] = trade.loc[191, '수출금액'] - trade.loc[191, '수입금액']\n",
    "trade.loc[[191]]"
   ]
  },
  {
   "cell_type": "markdown",
   "id": "3d2a3f09",
   "metadata": {},
   "source": [
    "* 수치형 데이터일 때는 결측치를 삭제하거나 대체함\n",
    "> * 범주형 데이터의 경우는?\n",
    "1. 특정 값 지정 ex. '기타', '결측'\n",
    "2. 최빈값 등으로 대체\n",
    "3. 다른 데이터를 이용해 예측값으로 대체\n",
    "4. 시계열 데이터인 경우 앞뒤 데이터를 통해 결측치 대체"
   ]
  },
  {
   "cell_type": "code",
   "execution_count": null,
   "id": "a78df203",
   "metadata": {},
   "outputs": [],
   "source": []
  },
  {
   "cell_type": "markdown",
   "id": "245a7bc7",
   "metadata": {},
   "source": [
    "## 3. 중복된 데이터\n",
    "중복된 데이터 제거하기"
   ]
  },
  {
   "cell_type": "code",
   "execution_count": null,
   "id": "f0571c66",
   "metadata": {},
   "outputs": [],
   "source": [
    "# duplicated(): 중복된 데이터 여부 반환\n",
    "trade.duplicated()"
   ]
  },
  {
   "cell_type": "code",
   "execution_count": null,
   "id": "2d2d3977",
   "metadata": {},
   "outputs": [],
   "source": [
    "trade[trade.duplicated()]"
   ]
  },
  {
   "cell_type": "code",
   "execution_count": null,
   "id": "fd5c9f0e",
   "metadata": {},
   "outputs": [],
   "source": [
    "trade[(trade['기간'] == '2020년 03월') & (trade['국가명'] == '중국')]"
   ]
  },
  {
   "cell_type": "markdown",
   "id": "83cef963",
   "metadata": {},
   "source": [
    "- index 186, 187이 중복되어 있다."
   ]
  },
  {
   "cell_type": "code",
   "execution_count": null,
   "id": "c38e9be7",
   "metadata": {},
   "outputs": [],
   "source": [
    "# drop_duplicateds: 중복된 데이터 삭제\n",
    "trade.drop_duplicates(inplace=True)"
   ]
  },
  {
   "cell_type": "markdown",
   "id": "e95768e6",
   "metadata": {},
   "source": [
    "index 187이 삭제됨을 알 수 있다."
   ]
  },
  {
   "cell_type": "code",
   "execution_count": null,
   "id": "4f7cc233",
   "metadata": {},
   "outputs": [],
   "source": [
    "df = pd.DataFrame({'id': ['001', '002', '003', '004', '002'],\n",
    "                  'name': ['Park Yun', 'Kim Sung', 'Park Jin', 'Lee Han', 'Kim Min']})\n",
    "df"
   ]
  },
  {
   "cell_type": "markdown",
   "id": "173974f2",
   "metadata": {},
   "source": [
    "> id가 002인 데이터 2개 존재\n",
    "> - id가 사람마다 unique하다고 할 때, 둘 중 하나는 삭제해야 함\n",
    "\n",
    "> index가 클수록 나중에 들어온 데이터이고, 사용자가 이름을 수정했을 때 업데이트가 되지 않고 삽입이 되어 생긴 문제라고 가정\n",
    "> - id가 중복된 경우 맨 나중에 들어온 값만 남기자"
   ]
  },
  {
   "cell_type": "code",
   "execution_count": null,
   "id": "3be70c30",
   "metadata": {},
   "outputs": [],
   "source": [
    "# keep='last'\n",
    "df.drop_duplicates(subset=['id'], keep='last')"
   ]
  },
  {
   "cell_type": "code",
   "execution_count": null,
   "id": "fd137e37",
   "metadata": {},
   "outputs": [],
   "source": []
  },
  {
   "cell_type": "markdown",
   "id": "edb98d37",
   "metadata": {},
   "source": [
    "## 4. 이상치(Outlier)\n",
    ": 대부분 값의 범위에서 벗어나 극단적으로 크거나 작은 값"
   ]
  },
  {
   "cell_type": "markdown",
   "id": "88a6f775",
   "metadata": {},
   "source": [
    "> `z score`: $\\frac{X-μ}{σ}$\n",
    "> - z-score가 특정 기준을 넘는다면 이상치라 판단하자!\n",
    "    \n",
    "\n",
    "이상치를 판단한 뒤 <br/>\n",
    "1. 간단하게 이상치 삭제\n",
    "2. 이상치를 다른 값으로 대체\n",
    "3. 결측치와 마찬가지로 다른 데이터를 활용해 예측 모델 만들어 예측값을 활용\n",
    "4. binning을 통해 수치형 데이터를 범주형으로 바꿈\n",
    "\n",
    "\n",
    "### z-score\n",
    "이상치 데이터의 인덱스를 리턴하는 `outlier`라는 함수를 만든다."
   ]
  },
  {
   "cell_type": "code",
   "execution_count": null,
   "id": "317ad7ad",
   "metadata": {},
   "outputs": [],
   "source": [
    "def outlier(df, col, z):\n",
    "    return df[abs(df[col] - np.mean(df[col])) / np.std(df[col]) > z].index"
   ]
  },
  {
   "cell_type": "code",
   "execution_count": null,
   "id": "d40e20b0",
   "metadata": {},
   "outputs": [],
   "source": [
    "trade.loc[outlier(trade, '무역수지', 1.5)]"
   ]
  },
  {
   "cell_type": "code",
   "execution_count": null,
   "id": "6aa20598",
   "metadata": {},
   "outputs": [],
   "source": [
    "trade.loc[outlier(trade, '무역수지', 2)]"
   ]
  },
  {
   "cell_type": "code",
   "execution_count": null,
   "id": "3ff51fe2",
   "metadata": {},
   "outputs": [],
   "source": [
    "trade.loc[outlier(trade, '무역수지', 3)]"
   ]
  },
  {
   "cell_type": "markdown",
   "id": "76fa1aee",
   "metadata": {},
   "source": [
    "- 무역수지 이상치를 확인하는데 기준되는 값이 클수록 이상치가 적어진다는 것을 알 수 있음"
   ]
  },
  {
   "cell_type": "code",
   "execution_count": null,
   "id": "de1fc9cf",
   "metadata": {},
   "outputs": [],
   "source": [
    "# 무역수지가 이상치가 값이 아닌 데이터만 추출하기\n",
    "def not_outlier(df, col, z):\n",
    "    return df[abs(df[col] - np.mean(df[col])) / np.std(df[col]) <= z].index"
   ]
  },
  {
   "cell_type": "code",
   "execution_count": null,
   "id": "06102a27",
   "metadata": {},
   "outputs": [],
   "source": [
    "trade.loc[not_outlier(trade, '무역수지', 1.5)]"
   ]
  },
  {
   "attachments": {
    "image.png": {
     "image/png": "[encoded data removed]"
    }
   },
   "cell_type": "markdown",
   "id": "062b39df",
   "metadata": {},
   "source": [
    "### IQR method\n",
    "> IQR(Interquartile range) <br/>\n",
    "> $IQR = Q_3 - Q_1$ <br/>\n",
    "> - $Q_1 - 1.5*IQR$ 보다 왼쪽에 있거나, $Q_3 + 1.5*IQR$ 보다 오른쪽에 있는 경우 이상치라 판단한다.\n",
    "\n",
    "![image.png](attachment:image.png)"
   ]
  },
  {
   "cell_type": "code",
   "execution_count": null,
   "id": "d2ab67cd",
   "metadata": {},
   "outputs": [],
   "source": [
    "np.random.seed(2020)\n",
    "data = np.random.randn(100) # 평균 0, 표편 1의 분포에서 100개의 숫자를 샘플링한 데이터 생성\n",
    "data = np.concatenate((data, np.array([8, 10, -3, -5]))) # [8,10,-3,-5])를 데이터 뒤에 추가\n",
    "data"
   ]
  },
  {
   "cell_type": "markdown",
   "id": "facf7fe1",
   "metadata": {},
   "source": [
    "> - np.random.rand: 0~1 균일 분포에서 난수 matrix 생성\n",
    "> - np.random.randn: 가우시안 표준 정규 분포(평균0, 표편1)에서 난수 matrix 생성"
   ]
  },
  {
   "cell_type": "code",
   "execution_count": null,
   "id": "4677ae52",
   "metadata": {},
   "outputs": [],
   "source": [
    "fig, ax = plt.subplots()\n",
    "ax.boxplot(data)\n",
    "plt.show()"
   ]
  },
  {
   "cell_type": "code",
   "execution_count": null,
   "id": "518037ab",
   "metadata": {},
   "outputs": [],
   "source": [
    "# 제1사분위수, 제3사분위수 구하기\n",
    "Q3, Q1 = np.percentile(data, [75, 25])\n",
    "IQR = Q3 - Q1\n",
    "IQR"
   ]
  },
  {
   "cell_type": "code",
   "execution_count": null,
   "id": "04a72045",
   "metadata": {},
   "outputs": [],
   "source": [
    "# 이상치 확인하기\n",
    "data[(Q1-1.5*IQR > data) | (Q3+1.5*IQR < data)]"
   ]
  },
  {
   "cell_type": "code",
   "execution_count": null,
   "id": "beb5ade2",
   "metadata": {},
   "outputs": [],
   "source": [
    "def outlier2(df, col):\n",
    "    q1 = df[col].quantile(0.25)\n",
    "    q3 = df[col].quantile(0.75)\n",
    "    iqr = q3 - q1\n",
    "    return df[(df[col] < q1-1.5*iqr) | (df[col] > q3+1.5*iqr)]\n",
    "\n",
    "outlier2(trade, '무역수지')"
   ]
  },
  {
   "cell_type": "markdown",
   "id": "0ce3554c",
   "metadata": {},
   "source": [
    "> z-score의 단점**\n",
    "1. 평균과 표준편차 자체가 이상치의 존재에 크게 영향을 미치기 때문에 robust하지 못하다.\n",
    "2. 전체 데이터셋의 크기가 작다면 이상치를 알아내기 어렵다."
   ]
  },
  {
   "cell_type": "code",
   "execution_count": null,
   "id": "72e190e4",
   "metadata": {},
   "outputs": [],
   "source": []
  },
  {
   "cell_type": "markdown",
   "id": "f0f735da",
   "metadata": {},
   "source": [
    "## 5. 정규화(Normalization)"
   ]
  },
  {
   "cell_type": "code",
   "execution_count": null,
   "id": "e4b906e8",
   "metadata": {},
   "outputs": [],
   "source": [
    "trade.head()"
   ]
  },
  {
   "cell_type": "markdown",
   "id": "ce516d87",
   "metadata": {},
   "source": [
    "> trade 데이터를 보면 수입건수, 수출건수 & 수입금액, 수출금액, 무역수지는 단위가 다르다. <br/>\n",
    "\n",
    "이렇게 컬럼마다 scale 차이가 있다면 머신러닝 모델 학습에 문제가 생길 수 있다. <br/>\n",
    "-> 정규화를 시키자!\n",
    "\n",
    "<br/>\n",
    "\n",
    "- `Standardization`: 데이터의 평균=0, 분산=1 <br/>\n",
    "> $ X-\\frac{X-μ}{σ} $\n",
    "\n",
    "- `Min-Max Scaling`: 데이터의 최솟값=0, 최댓값=1 <br/>\n",
    "> $ \\frac{X - X_{min}}{X_{max} - X_{min}} $"
   ]
  },
  {
   "cell_type": "code",
   "execution_count": null,
   "id": "43ef786e",
   "metadata": {},
   "outputs": [],
   "source": [
    "# 정규분포를 따라 랜덤하게 데이터 x를 생성함\n",
    "x = pd.DataFrame({'A': np.random.randn(100)*4+4,\n",
    "                 'B': np.random.randn(100)-1})\n",
    "x"
   ]
  },
  {
   "cell_type": "code",
   "execution_count": null,
   "id": "0fdf1b28",
   "metadata": {},
   "outputs": [],
   "source": [
    "# Standardization\n",
    "x_standardization = (x - x.mean()) / x.std()\n",
    "x_standardization"
   ]
  },
  {
   "cell_type": "code",
   "execution_count": null,
   "id": "56129970",
   "metadata": {},
   "outputs": [],
   "source": [
    "# Min-Max Scaling\n",
    "x_min_max = (x-x.min()) / (x.max()-x.min())\n",
    "x_min_max"
   ]
  },
  {
   "cell_type": "code",
   "execution_count": null,
   "id": "34ecf647",
   "metadata": {},
   "outputs": [],
   "source": [
    "# Standardization 정규화 -> 분포 확인\n",
    "fig, axs = plt.subplots(1, 2, figsize=(12, 4), gridspec_kw={\n",
    "    'width_ratios': [2, 1]})\n",
    "\n",
    "axs[0].scatter(x['A'], x['B'])\n",
    "axs[0].set_xlim(-5, 15)\n",
    "axs[0].set_ylim(-5, 5)\n",
    "axs[0].axvline(c='grey', lw=1)\n",
    "axs[0].axhline(c='grey', lw=1)\n",
    "\n",
    "axs[1].scatter(x_standardization['A'], x_standardization['B'])\n",
    "axs[1].set_xlim(-5, 5)\n",
    "axs[1].set_ylim(-5, 5)\n",
    "axs[1].axvline(c='grey', lw=1)\n",
    "axs[1].axhline(c='grey', lw=1)\n",
    "axs[1].set_title('Data after standardization')\n",
    "\n",
    "plt.show()"
   ]
  },
  {
   "cell_type": "code",
   "execution_count": null,
   "id": "131f809a",
   "metadata": {},
   "outputs": [],
   "source": [
    "# Min-Max Scaling 정규화 -> 분포 확인\n",
    "fig, axs = plt.subplots(1, 2, figsize=(12, 4), gridspec_kw={\n",
    "    'width_ratios': [2, 1]})\n",
    "\n",
    "axs[0].scatter(x['A'], x['B'])\n",
    "axs[0].set_xlim(-5, 15)\n",
    "axs[0].set_ylim(-5, 5)\n",
    "axs[0].axvline(c='grey', lw=1)\n",
    "axs[0].axhline(c='grey', lw=1)\n",
    "\n",
    "axs[1].scatter(x_min_max['A'], x_min_max['B'])\n",
    "axs[1].set_xlim(-5, 5)\n",
    "axs[1].set_ylim(-5, 5)\n",
    "axs[1].axvline(c='grey', lw=1)\n",
    "axs[1].axhline(c='grey', lw=1)\n",
    "axs[1].set_title('Data after min-max scaling')\n",
    "\n",
    "plt.show()"
   ]
  },
  {
   "cell_type": "markdown",
   "id": "7e697dc3",
   "metadata": {},
   "source": [
    "### 우리가 가진 trade 데이터로"
   ]
  },
  {
   "cell_type": "code",
   "execution_count": null,
   "id": "efc5aa92",
   "metadata": {},
   "outputs": [],
   "source": [
    "# trade 데이터를 Standardization 기법으로 정규화함\n",
    "cols = ['수출건수', '수출금액', '수입건수', '수입금액', '무역수지']\n",
    "trade_Standardization = (trade[cols]-trade[cols].mean()) / trade[cols].std()\n",
    "trade_Standardization.head()\n"
   ]
  },
  {
   "cell_type": "code",
   "execution_count": null,
   "id": "d8e0ef92",
   "metadata": {},
   "outputs": [],
   "source": [
    "trade_Standardization.describe()"
   ]
  },
  {
   "cell_type": "markdown",
   "id": "9127141f",
   "metadata": {},
   "source": [
    "- 각 컬럼의 평균은 거의 0에 가깝고, 표준편차는 1에 가까운 것을 확인할 수 있음"
   ]
  },
  {
   "cell_type": "code",
   "execution_count": null,
   "id": "80cba5b7",
   "metadata": {},
   "outputs": [],
   "source": [
    "# Min-Max Scaling\n",
    "# trade 데이터를 min-max scaling 기법으로 정규화\n",
    "trade[cols] = (trade[cols]-trade[cols].min()) / (trade[cols].max()-trade[cols].min())\n",
    "trade.head()"
   ]
  },
  {
   "cell_type": "code",
   "execution_count": null,
   "id": "e8ad3091",
   "metadata": {},
   "outputs": [],
   "source": [
    "trade.describe()"
   ]
  },
  {
   "cell_type": "markdown",
   "id": "d29c3f76",
   "metadata": {},
   "source": [
    "> train 데이터를 정규화시켰던 기준 그대로 test 데이터도 정규화 시켜줘야 함"
   ]
  },
  {
   "cell_type": "code",
   "execution_count": null,
   "id": "2d132526",
   "metadata": {},
   "outputs": [],
   "source": [
    "train = pd.DataFrame([[10, -10], [30, 10], [50, 0]])\n",
    "test = pd.DataFrame([[0, 1], [10, 10]])"
   ]
  },
  {
   "cell_type": "code",
   "execution_count": null,
   "id": "8fe6738f",
   "metadata": {},
   "outputs": [],
   "source": [
    "train_min = train.min()\n",
    "train_max = train.max()\n",
    "\n",
    "train_min_max = (train-train_min) / (train_max-train_min)\n",
    "test_min_max = (test-train_min) / (train_max-train_min)\n",
    "\n",
    "# test를 min-max scaling할 때도 train 정규화 기준으로 수행"
   ]
  },
  {
   "cell_type": "code",
   "execution_count": null,
   "id": "f624f9d0",
   "metadata": {},
   "outputs": [],
   "source": [
    "train_min_max"
   ]
  },
  {
   "cell_type": "code",
   "execution_count": null,
   "id": "c93d03c8",
   "metadata": {},
   "outputs": [],
   "source": [
    "test_min_max"
   ]
  },
  {
   "cell_type": "code",
   "execution_count": null,
   "id": "47b1d03b",
   "metadata": {},
   "outputs": [],
   "source": [
    "# scikit-learn의 StandardScaler, MinMaxScaler을 이용하는 방법도 있음\n",
    "from sklearn.preprocessing import MinMaxScaler\n",
    "\n",
    "train = [[10, -10], [30, 10], [50, 0]]\n",
    "test = [[0, 1]]\n",
    "scaler = MinMaxScaler()"
   ]
  },
  {
   "cell_type": "code",
   "execution_count": null,
   "id": "de25b9b3",
   "metadata": {},
   "outputs": [],
   "source": [
    "scaler.fit_transform(train)"
   ]
  },
  {
   "cell_type": "code",
   "execution_count": null,
   "id": "2f6dfbd4",
   "metadata": {},
   "outputs": [],
   "source": [
    "scaler.transform(test)"
   ]
  },
  {
   "cell_type": "markdown",
   "id": "3855e10b",
   "metadata": {},
   "source": [
    "🥕 `fit_transform()`\n",
    "> - train dataset에서만 사용\n",
    "> - train data로 학습된 Scaler()의 parameter를 통해 test data의 feature 값들이 스케일 되는 것\n",
    "\n",
    "\n",
    "🥕 `trasform()`\n",
    "> - train data로부터 학습된 mean, varaicne 값을 test data에 적용하기 위해 transform() 메서드를 사용함\n",
    "> - 여기서도 만약 fit_transform()을 사용하게 된다면 test data로부터 새로운 mean, variance 값을 얻기 때문에 이도 같이 학습되는 것이다."
   ]
  },
  {
   "cell_type": "markdown",
   "id": "0002d113",
   "metadata": {},
   "source": [
    "> 추가로 **로그 변환**도 정규화와 함께 사용하면 도움이 됨"
   ]
  },
  {
   "cell_type": "code",
   "execution_count": null,
   "id": "7170a4a4",
   "metadata": {},
   "outputs": [],
   "source": []
  },
  {
   "cell_type": "markdown",
   "id": "82ab3810",
   "metadata": {},
   "source": [
    "## 6. 원-핫 인코딩 (One-Hot Encoding)\n",
    ": 카테고리별 이진 특성을 만들어 해당하는 특성만 1, 나머지는 0으로 만드는 방법"
   ]
  },
  {
   "cell_type": "code",
   "execution_count": null,
   "id": "67976928",
   "metadata": {},
   "outputs": [],
   "source": [
    "# get_dummies 함수로 쉽게 원-핫 인코딩 수행 가능\n",
    "\n",
    "# trade 데이터의 국가명 컬럼 원본\n",
    "print(trade['국가명'].head())\n",
    "\n",
    "# get_dummies를 통해 국가명 원-핫 인코딩\n",
    "country = pd.get_dummies(trade['국가명'])\n",
    "country.head()"
   ]
  },
  {
   "cell_type": "code",
   "execution_count": null,
   "id": "d453ad93",
   "metadata": {},
   "outputs": [],
   "source": [
    "# pd.concat으로 trade와 country 합쳐주기\n",
    "trade = pd.concat([trade, country], axis=1)\n",
    "trade.head()"
   ]
  },
  {
   "cell_type": "markdown",
   "id": "a684b81f",
   "metadata": {},
   "source": [
    "- axis=1 : 열\n",
    "- axis=0 : 행"
   ]
  },
  {
   "cell_type": "code",
   "execution_count": null,
   "id": "079a6e52",
   "metadata": {},
   "outputs": [],
   "source": [
    "# 필요 없어진 국가명 컬럼 삭제해주기\n",
    "trade.drop(['국가명'], axis=1, inplace=True)\n",
    "trade.head()"
   ]
  },
  {
   "cell_type": "code",
   "execution_count": null,
   "id": "303146d5",
   "metadata": {},
   "outputs": [],
   "source": []
  },
  {
   "cell_type": "markdown",
   "id": "9ec58169",
   "metadata": {},
   "source": [
    "## 7. 구간화(Binning)\n",
    "\n",
    "> 데이터를 구간별로 나누기: 구간화(`Data binning` 혹은 `bucketing`)\n",
    "> - 히스토그램과 같이 연속적인 데이터를 구간을 나눠 분석할 때 사용하는 방법\n",
    "\n",
    "- salary에 소득 데이터가 있다고 하자."
   ]
  },
  {
   "cell_type": "code",
   "execution_count": null,
   "id": "31aa9875",
   "metadata": {},
   "outputs": [],
   "source": [
    "salary = pd.Series([4300, 8370, 1750, 3830, 1840, 4220, 3020, 2290, 4740, 4600, \n",
    "                    2860, 3400, 4800, 4470, 2440, 4530, 4850, 4850, 4760, 4500, \n",
    "                    4640, 3000, 1880, 4880, 2240, 4750, 2750, 2810, 3100, 4290, \n",
    "                    1540, 2870, 1780, 4670, 4150, 2010, 3580, 1610, 2930, 4300, \n",
    "                    2740, 1680, 3490, 4350, 1680, 6420, 8740, 8980, 9080, 3990, \n",
    "                    4960, 3700, 9600, 9330, 5600, 4100, 1770, 8280, 3120, 1950, \n",
    "                    4210, 2020, 3820, 3170, 6330, 2570, 6940, 8610, 5060, 6370,\n",
    "                    9080, 3760, 8060, 2500, 4660, 1770, 9220, 3380, 2490, 3450, \n",
    "                    1960, 7210, 5810, 9450, 8910, 3470, 7350, 8410, 7520, 9610, \n",
    "                    5150, 2630, 5610, 2750, 7050, 3350, 9450, 7140, 4170, 3090])"
   ]
  },
  {
   "cell_type": "code",
   "execution_count": null,
   "id": "17bb40e0",
   "metadata": {},
   "outputs": [],
   "source": [
    "salary.hist()"
   ]
  },
  {
   "cell_type": "markdown",
   "id": "569b648e",
   "metadata": {},
   "source": [
    "> pandas의 `cut`과 `qcut`을 이용해 수치형 데이터 -> 범주형 데이터로 변형시키기"
   ]
  },
  {
   "cell_type": "code",
   "execution_count": null,
   "id": "62f22d2e",
   "metadata": {},
   "outputs": [],
   "source": [
    "# 먼저 구간 정해주기\n",
    "bins = [0, 2000, 4000, 6000, 8000, 10000]"
   ]
  },
  {
   "cell_type": "code",
   "execution_count": null,
   "id": "f737e5ef",
   "metadata": {},
   "outputs": [],
   "source": [
    "# cut 함수에 데이터와 구간을 입력 -> 데이터를 구간별로 나눠줌\n",
    "ctg = pd.cut(salary, bins=bins)\n",
    "ctg"
   ]
  },
  {
   "cell_type": "code",
   "execution_count": null,
   "id": "b336eb29",
   "metadata": {},
   "outputs": [],
   "source": [
    "print('salary[0]: ', salary[0])\n",
    "print('salary[0]이 속한 카테고리: ', ctg[0])"
   ]
  },
  {
   "cell_type": "code",
   "execution_count": null,
   "id": "2fed077d",
   "metadata": {},
   "outputs": [],
   "source": [
    "# value_counts(): 구간 별로 값이 몇 개가 속해있는지\n",
    "ctg.value_counts().sort_index()"
   ]
  },
  {
   "cell_type": "markdown",
   "id": "d94648b2",
   "metadata": {},
   "source": [
    "> `cut` 함수: 데이터와 구간을 입력하면 데이터를 구간별로 나눠줌 <br/>\n",
    "> - 위와 같이 특정 구간을 지정해주는 게 아니라, 구간의 개수를 지정해주기"
   ]
  },
  {
   "cell_type": "code",
   "execution_count": null,
   "id": "2e200aa9",
   "metadata": {},
   "outputs": [],
   "source": [
    "# 구간의 개수 지정해줄 수도 있음\n",
    "ctg = pd.cut(salary, bins=6)\n",
    "ctg"
   ]
  },
  {
   "cell_type": "code",
   "execution_count": null,
   "id": "18e11dda",
   "metadata": {},
   "outputs": [],
   "source": [
    "ctg.value_counts().sort_index()"
   ]
  },
  {
   "cell_type": "markdown",
   "id": "cc30e35b",
   "metadata": {},
   "source": [
    "> `qcut`: 구간을 일정하게 나누는게 아니라 데이터의 분포를 비슷한 크기의 그룹으로 나누기"
   ]
  },
  {
   "cell_type": "code",
   "execution_count": null,
   "id": "880b58b8",
   "metadata": {},
   "outputs": [],
   "source": [
    "ctg = pd.qcut(salary, q=5)\n",
    "ctg"
   ]
  },
  {
   "cell_type": "code",
   "execution_count": null,
   "id": "e0a9a74c",
   "metadata": {},
   "outputs": [],
   "source": [
    "print(ctg.value_counts().sort_index())\n",
    "print('.\\n.\\n Well done')"
   ]
  },
  {
   "cell_type": "code",
   "execution_count": null,
   "id": "13b86e3a",
   "metadata": {},
   "outputs": [],
   "source": []
  },
  {
   "cell_type": "code",
   "execution_count": null,
   "id": "b4352a6d",
   "metadata": {},
   "outputs": [],
   "source": []
  },
  {
   "cell_type": "code",
   "execution_count": null,
   "id": "7a7357c8",
   "metadata": {},
   "outputs": [],
   "source": []
  }
 ],
 "metadata": {
  "kernelspec": {
   "display_name": "Python 3 (ipykernel)",
   "language": "python",
   "name": "python3"
  },
  "language_info": {
   "codemirror_mode": {
    "name": "ipython",
    "version": 3
   },
   "file_extension": ".py",
   "mimetype": "text/x-python",
   "name": "python",
   "nbconvert_exporter": "python",
   "pygments_lexer": "ipython3",
   "version": "3.9.7"
  },
  "toc": {
   "base_numbering": 1,
   "nav_menu": {},
   "number_sections": true,
   "sideBar": true,
   "skip_h1_title": false,
   "title_cell": "Table of Contents",
   "title_sidebar": "Contents",
   "toc_cell": false,
   "toc_position": {},
   "toc_section_display": true,
   "toc_window_display": false
  },
  "varInspector": {
   "cols": {
    "lenName": 16,
    "lenType": 16,
    "lenVar": 40
   },
   "kernels_config": {
    "python": {
     "delete_cmd_postfix": "",
     "delete_cmd_prefix": "del ",
     "library": "var_list.py",
     "varRefreshCmd": "print(var_dic_list())"
    },
    "r": {
     "delete_cmd_postfix": ") ",
     "delete_cmd_prefix": "rm(",
     "library": "var_list.r",
     "varRefreshCmd": "cat(var_dic_list()) "
    }
   },
   "types_to_exclude": [
    "module",
    "function",
    "builtin_function_or_method",
    "instance",
    "_Feature"
   ],
   "window_display": false
  }
 },
 "nbformat": 4,
 "nbformat_minor": 5
}
