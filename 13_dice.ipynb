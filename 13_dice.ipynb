{
 "cells": [
  {
   "cell_type": "markdown",
   "id": "4c995c67",
   "metadata": {},
   "source": [
    "## 얕은 복사, 깊은 복사"
   ]
  },
  {
   "cell_type": "markdown",
   "id": "b51a829c",
   "metadata": {},
   "source": [
    "- 원본 데이터는 그대로 두고, 참조하는 데이터의 id만 복사하는 것"
   ]
  },
  {
   "cell_type": "code",
   "execution_count": 1,
   "id": "f061d7be",
   "metadata": {},
   "outputs": [
    {
     "data": {
      "text/plain": [
       "[1, 2, 3]"
      ]
     },
     "execution_count": 1,
     "metadata": {},
     "output_type": "execute_result"
    }
   ],
   "source": [
    "mylist = [1, 2, 3]\n",
    "var = mylist # id만 복사\n",
    "var"
   ]
  },
  {
   "cell_type": "code",
   "execution_count": 2,
   "id": "de068c90",
   "metadata": {},
   "outputs": [
    {
     "name": "stdout",
     "output_type": "stream",
     "text": [
      "[1, 2, 3, 4]\n"
     ]
    }
   ],
   "source": [
    "mylist.append(4)\n",
    "print(mylist)"
   ]
  },
  {
   "cell_type": "code",
   "execution_count": 3,
   "id": "8da9d948",
   "metadata": {},
   "outputs": [
    {
     "name": "stdout",
     "output_type": "stream",
     "text": [
      "[1, 2, 3, 4]\n"
     ]
    }
   ],
   "source": [
    "print(var)"
   ]
  },
  {
   "cell_type": "code",
   "execution_count": 4,
   "id": "0d1a5d64",
   "metadata": {},
   "outputs": [
    {
     "name": "stdout",
     "output_type": "stream",
     "text": [
      "140036606772096 140036606772096\n"
     ]
    }
   ],
   "source": [
    "print(id(mylist), id(var)) # 같다."
   ]
  },
  {
   "cell_type": "markdown",
   "id": "9b45ea1d",
   "metadata": {},
   "source": [
    "## 클래스 선언"
   ]
  },
  {
   "cell_type": "code",
   "execution_count": 9,
   "id": "6698dd47",
   "metadata": {},
   "outputs": [
    {
     "name": "stdout",
     "output_type": "stream",
     "text": [
      "94063831909248\n",
      "94063831909248\n",
      "140036606638400\n",
      "140036606639024\n",
      "<class 'type'>\n",
      "<class '__main__.Car'>\n"
     ]
    }
   ],
   "source": [
    "class Car:\n",
    "    pass\n",
    "\n",
    "class Car():\n",
    "    pass\n",
    "\n",
    "# id(Car)은 여러 번 호출해도 같은 값\n",
    "print(id(Car))\n",
    "print(id(Car))\n",
    "\n",
    "# id(Car())은 Car()가 호출될 때마다 다른 값\n",
    "print(id(Car()))\n",
    "print(id(Car()))\n",
    "\n",
    "# 두 객체의 type\n",
    "print(type(Car))\n",
    "print(type(Car()))"
   ]
  },
  {
   "cell_type": "markdown",
   "id": "193d99cd",
   "metadata": {},
   "source": [
    "## 클래스 사용 - 객체 인스턴스화"
   ]
  },
  {
   "cell_type": "code",
   "execution_count": 10,
   "id": "87572b40",
   "metadata": {},
   "outputs": [
    {
     "name": "stdout",
     "output_type": "stream",
     "text": [
      "140036606636912\n",
      "140036606637968\n"
     ]
    }
   ],
   "source": [
    "# 인스턴스 할당 = 클래스를 호출(call) 했다.\n",
    "mycar = Car()\n",
    "mycar2 = Car()\n",
    "\n",
    "# 다른 id\n",
    "print(id(mycar))\n",
    "print(id(mycar2))"
   ]
  },
  {
   "cell_type": "markdown",
   "id": "1163f17a",
   "metadata": {},
   "source": [
    "## 클래스의 속성과 메서드"
   ]
  },
  {
   "cell_type": "code",
   "execution_count": 11,
   "id": "72f928e6",
   "metadata": {},
   "outputs": [],
   "source": [
    "class Car:\n",
    "    color = 'red'\n",
    "    category = 'sports car'\n",
    "    \n",
    "    def drive(self):\n",
    "        print(\"I'm driving\")\n",
    "    \n",
    "    def accel(self, speed_up, current_speed=10):\n",
    "        self.speed_up = speed_up\n",
    "        self.current_speed = current_speed + speed_up\n",
    "        print('speed_up', self.speed_up, 'driving at', self.current_speed)"
   ]
  },
  {
   "cell_type": "code",
   "execution_count": 12,
   "id": "8640a979",
   "metadata": {},
   "outputs": [
    {
     "name": "stdout",
     "output_type": "stream",
     "text": [
      "red\n"
     ]
    }
   ],
   "source": [
    "mycar = Car()\n",
    "print(mycar.color)"
   ]
  },
  {
   "cell_type": "code",
   "execution_count": null,
   "id": "11d74938",
   "metadata": {},
   "outputs": [],
   "source": [
    "# mycar.price # 에러"
   ]
  },
  {
   "cell_type": "code",
   "execution_count": 13,
   "id": "7133444c",
   "metadata": {},
   "outputs": [
    {
     "name": "stdout",
     "output_type": "stream",
     "text": [
      "I'm driving\n"
     ]
    }
   ],
   "source": [
    "mycar.drive()"
   ]
  },
  {
   "cell_type": "code",
   "execution_count": 14,
   "id": "b80f907d",
   "metadata": {},
   "outputs": [
    {
     "name": "stdout",
     "output_type": "stream",
     "text": [
      "speed_up 5 driving at 15\n"
     ]
    }
   ],
   "source": [
    "mycar.accel(5)"
   ]
  },
  {
   "cell_type": "markdown",
   "id": "d69127bc",
   "metadata": {},
   "source": [
    "- 아래 두 코드는 똑같이 동작한다."
   ]
  },
  {
   "cell_type": "code",
   "execution_count": 15,
   "id": "be804dfe",
   "metadata": {},
   "outputs": [
    {
     "name": "stdout",
     "output_type": "stream",
     "text": [
      "I'm driving\n"
     ]
    }
   ],
   "source": [
    "# (일반적) 사용자 호출 코드\n",
    "mycar.drive()"
   ]
  },
  {
   "cell_type": "code",
   "execution_count": 16,
   "id": "27cba27e",
   "metadata": {},
   "outputs": [
    {
     "name": "stdout",
     "output_type": "stream",
     "text": [
      "I'm driving\n"
     ]
    }
   ],
   "source": [
    "# 실제 내부에서 실행되는 코드\n",
    "Car.drive(mycar)"
   ]
  },
  {
   "cell_type": "markdown",
   "id": "cad97e2b",
   "metadata": {},
   "source": [
    "## 접두사 self."
   ]
  },
  {
   "cell_type": "code",
   "execution_count": 17,
   "id": "1628e9df",
   "metadata": {},
   "outputs": [],
   "source": [
    "class Test2:\n",
    "    def run1(self, a):\n",
    "        self.a = float(a) * 10\n",
    "        print(self.a)\n",
    "    \n",
    "    def run2(self, b):\n",
    "        b = float(b) + 10\n",
    "        print(self.b)\n",
    "\n",
    "t = Test2()"
   ]
  },
  {
   "cell_type": "code",
   "execution_count": 18,
   "id": "52a939fd",
   "metadata": {},
   "outputs": [
    {
     "name": "stdout",
     "output_type": "stream",
     "text": [
      "10.0\n"
     ]
    }
   ],
   "source": [
    "t.run1(1)"
   ]
  },
  {
   "cell_type": "code",
   "execution_count": 20,
   "id": "794b158c",
   "metadata": {},
   "outputs": [],
   "source": [
    "# t.run2(1) # self를 안 써서 오류"
   ]
  },
  {
   "cell_type": "markdown",
   "id": "94512da4",
   "metadata": {},
   "source": [
    "## 생성자 __init__\n",
    "- 클래스에 의해 만든 인스턴스 객체의 속성값을 초기화하는 방법"
   ]
  },
  {
   "cell_type": "code",
   "execution_count": 21,
   "id": "fcdf21f9",
   "metadata": {},
   "outputs": [],
   "source": [
    "class Car:\n",
    "    color = 'red'\n",
    "    category = 'sports car'\n",
    "\n",
    "    def drive(self):\n",
    "        print(\"I'm driving\")\n",
    "\n",
    "    def accel(self, speed_up, current_speed=10):\n",
    "        self.speed_up = speed_up\n",
    "        self.current_speed = current_speed + self.speed_up\n",
    "        print(\"speed up\", self.speed_up, \"driving at\", self.current_speed)"
   ]
  },
  {
   "cell_type": "code",
   "execution_count": 22,
   "id": "2bc9c96f",
   "metadata": {},
   "outputs": [],
   "source": [
    "class Car2:\n",
    "    def __init__(self, color, category):\n",
    "        self.color = color\n",
    "        self.category = category\n",
    "        \n",
    "    def drive(self):\n",
    "        print(\"I'm driving\")\n",
    "    \n",
    "    def accel(self, speed_up, current_speed=10):\n",
    "        self.speed_up = speed_up\n",
    "        self.current_speed = current_speed + self.speed_up\n",
    "        print(\"speed up\", self.speed_up, \"driving at\", self.current_speed)"
   ]
  },
  {
   "cell_type": "code",
   "execution_count": 23,
   "id": "a0aa7828",
   "metadata": {},
   "outputs": [],
   "source": [
    "car1 = Car()\n",
    "car2 = Car2('yellow', 'sedan')"
   ]
  },
  {
   "cell_type": "code",
   "execution_count": 24,
   "id": "f9256b80",
   "metadata": {},
   "outputs": [
    {
     "data": {
      "text/plain": [
       "'red'"
      ]
     },
     "execution_count": 24,
     "metadata": {},
     "output_type": "execute_result"
    }
   ],
   "source": [
    "car1.color"
   ]
  },
  {
   "cell_type": "code",
   "execution_count": 25,
   "id": "75b003de",
   "metadata": {},
   "outputs": [
    {
     "data": {
      "text/plain": [
       "'yellow'"
      ]
     },
     "execution_count": 25,
     "metadata": {},
     "output_type": "execute_result"
    }
   ],
   "source": [
    "car2.color"
   ]
  },
  {
   "cell_type": "code",
   "execution_count": 26,
   "id": "724b3330",
   "metadata": {},
   "outputs": [
    {
     "data": {
      "text/plain": [
       "'sports car'"
      ]
     },
     "execution_count": 26,
     "metadata": {},
     "output_type": "execute_result"
    }
   ],
   "source": [
    "car1.category"
   ]
  },
  {
   "cell_type": "code",
   "execution_count": 27,
   "id": "4d66da41",
   "metadata": {},
   "outputs": [
    {
     "data": {
      "text/plain": [
       "'sedan'"
      ]
     },
     "execution_count": 27,
     "metadata": {},
     "output_type": "execute_result"
    }
   ],
   "source": [
    "car2.category"
   ]
  },
  {
   "cell_type": "code",
   "execution_count": 28,
   "id": "42050cb8",
   "metadata": {},
   "outputs": [],
   "source": [
    "# 이처럼 키워드 인자를 지정할 수도 있다.\n",
    "class Car2:\n",
    "    def __init__(self, color='red', category='sports car'):\n",
    "        self.color = color\n",
    "        self.category = category"
   ]
  },
  {
   "cell_type": "markdown",
   "id": "c8597cd2",
   "metadata": {},
   "source": [
    "## 클래스 변수와 인스턴스 변수\n",
    "- 객체 단위로 변경되는 변수는 인스턴스 변수로 선언하자!"
   ]
  },
  {
   "cell_type": "code",
   "execution_count": 29,
   "id": "d58a8c4d",
   "metadata": {},
   "outputs": [],
   "source": [
    "class Car:\n",
    "    Manufacture = \"India\" # 클래스 변수\n",
    "    \n",
    "    def __init__(self, color, category='sedan'):\n",
    "        self.color = color # 인스턴스 변수\n",
    "        self.category = category"
   ]
  },
  {
   "cell_type": "code",
   "execution_count": 30,
   "id": "0f8b5eeb",
   "metadata": {},
   "outputs": [
    {
     "name": "stdout",
     "output_type": "stream",
     "text": [
      "India red sports\n",
      "India white sedan\n"
     ]
    }
   ],
   "source": [
    "car1 = Car('red', 'sports')\n",
    "car2 = Car('white')\n",
    "\n",
    "print(car1.Manufacture, car1.color, car1.category)\n",
    "print(car2.Manufacture, car2.color, car2.category)"
   ]
  },
  {
   "cell_type": "markdown",
   "id": "7d878a40",
   "metadata": {},
   "source": [
    "## 상속"
   ]
  },
  {
   "cell_type": "code",
   "execution_count": 31,
   "id": "817b5ca1",
   "metadata": {},
   "outputs": [],
   "source": [
    "class Car:\n",
    "    Manufacture = \"India\"\n",
    "\n",
    "    def __init__(self, color='red', category='sedan'):\n",
    "        self.color = color\n",
    "        self.category = category\n",
    "\n",
    "    def drive(self):\n",
    "        print(\"I'm driving\")\n",
    "\n",
    "    def accel(self, speed_up, current_speed=10):\n",
    "        self.speed_up = speed_up\n",
    "        self.current_speed = current_speed + self.speed_up\n",
    "        print(\"speed up\", self.speed_up, \"driving at\", self.current_speed)"
   ]
  },
  {
   "cell_type": "code",
   "execution_count": 32,
   "id": "9ae1a1bf",
   "metadata": {},
   "outputs": [
    {
     "name": "stdout",
     "output_type": "stream",
     "text": [
      "I'm driving\n",
      "speed up 10 driving at 20\n"
     ]
    }
   ],
   "source": [
    "class NewCar(Car): # Car 클래스 상속\n",
    "    pass\n",
    "\n",
    "car = NewCar()\n",
    "car.drive()\n",
    "car.accel(10)"
   ]
  },
  {
   "cell_type": "code",
   "execution_count": 33,
   "id": "ec7b99c1",
   "metadata": {},
   "outputs": [
    {
     "data": {
      "text/plain": [
       "'Porsche'"
      ]
     },
     "execution_count": 33,
     "metadata": {},
     "output_type": "execute_result"
    }
   ],
   "source": [
    "class NewCar(Car):\n",
    "    maker = 'Porsche'\n",
    "    \n",
    "car = NewCar()\n",
    "car.maker"
   ]
  },
  {
   "cell_type": "markdown",
   "id": "976586e6",
   "metadata": {},
   "source": [
    "## 메서드 추가하기"
   ]
  },
  {
   "cell_type": "code",
   "execution_count": 34,
   "id": "8cf40da3",
   "metadata": {},
   "outputs": [],
   "source": [
    "class NewCar(Car):\n",
    "    def fly(self):\n",
    "        print(\"I'm flying!! This is the new car!!\")"
   ]
  },
  {
   "cell_type": "markdown",
   "id": "02977647",
   "metadata": {},
   "source": [
    "## 메서드 오버라이드"
   ]
  },
  {
   "cell_type": "code",
   "execution_count": 35,
   "id": "fd814a4d",
   "metadata": {},
   "outputs": [],
   "source": [
    "class NewCar(Car):\n",
    "    def fly(self): # 메서드 추가\n",
    "        print(\"I'm flying!! This is the new car!!\")\n",
    "    \n",
    "    def drive(self): # 메서드 재정의 (메서드 오버라이딩)\n",
    "        print(\"I'm driving and can fly!\")"
   ]
  },
  {
   "cell_type": "markdown",
   "id": "e8bad865",
   "metadata": {},
   "source": [
    "## 부모 메서드 호출하기(super())"
   ]
  },
  {
   "cell_type": "code",
   "execution_count": 36,
   "id": "34e25a03",
   "metadata": {},
   "outputs": [],
   "source": [
    "class NewCar(Car):\n",
    "    def __init__(self, color, category, maker):\n",
    "        super().__init__(color, category) # 부모 클래스의 변수만 변경하면 됨!\n",
    "        self.maker = maker\n",
    "    \n",
    "    def fly(self):\n",
    "        print(\"I'm flying!! This is the new car!!\")\n",
    "    \n",
    "    def accel(self, speed_up, level=1, current_speed=10):\n",
    "        self.boost[level] = {1:0, 2:30, 3:50}\n",
    "        self.speed_up = speed_up + self.boost[level]\n",
    "        self.current_speed = current_speed + self.speed_up\n",
    "        print(\"speed up\", self.speed_up, \"driving at\", self.current_speed)"
   ]
  },
  {
   "cell_type": "code",
   "execution_count": 37,
   "id": "0799c0a8",
   "metadata": {},
   "outputs": [
    {
     "name": "stdout",
     "output_type": "stream",
     "text": [
      "2020Y sports car\n"
     ]
    }
   ],
   "source": [
    "class Car:\n",
    "    Manufacture = \"India\"\n",
    "\n",
    "    def __init__(self, color='red', category='sedan'):\n",
    "        self.color = color \n",
    "        self.category = '2020Y '+ category\n",
    "\n",
    "\n",
    "class NewCar(Car):\n",
    "    def __init__(self, color, category, maker):\n",
    "        super().__init__(color, category)\n",
    "        self.maker = maker\n",
    "\n",
    "newcar = NewCar('red', 'sports car', 'Kia')\n",
    "print(newcar.category)"
   ]
  },
  {
   "cell_type": "markdown",
   "id": "0740ef8a",
   "metadata": {},
   "source": [
    "## n면체 주사위 만들기"
   ]
  },
  {
   "cell_type": "markdown",
   "id": "d76c3ab1",
   "metadata": {},
   "source": [
    "- n: 주사위 면의 수"
   ]
  },
  {
   "cell_type": "code",
   "execution_count": null,
   "id": "b5285c2a",
   "metadata": {},
   "outputs": [],
   "source": [
    "def main():\n",
    "    n = get_inputs()\n",
    "    mydice = FunnyDice(n)\n",
    "    mydice.throw()\n",
    "    print('행운의 숫자는? {}'.format(mydice.getval()))"
   ]
  },
  {
   "cell_type": "code",
   "execution_count": 38,
   "id": "08f23d41",
   "metadata": {},
   "outputs": [],
   "source": [
    "class FunnyDice:\n",
    "    def __init__(self, n):\n",
    "        self.n = n\n",
    "    \n",
    "    def throw(self):\n",
    "        pass\n",
    "    \n",
    "    def getval(self):\n",
    "        pass\n",
    "    \n",
    "    def setval(self, val):\n",
    "        pass"
   ]
  },
  {
   "cell_type": "markdown",
   "id": "3131b66a",
   "metadata": {},
   "source": [
    "### 생성자 __init__ 구현"
   ]
  },
  {
   "cell_type": "code",
   "execution_count": 39,
   "id": "a9d5fdd2",
   "metadata": {},
   "outputs": [],
   "source": [
    "from random import randrange\n",
    "\n",
    "class FunnyDice:\n",
    "    def __init__(self, n=6): # 6면체 주사위\n",
    "        self.n = int(n)\n",
    "        self.numbers = list(range(1, n+1)) # 주사위 눈들\n",
    "        self.index = randrange(0, self.n) # 랜덤으로\n",
    "        self.val = self.numbers[self.index] # 주사위의 눈"
   ]
  },
  {
   "cell_type": "markdown",
   "id": "59cf537c",
   "metadata": {},
   "source": [
    "### throw와 getval 메서드"
   ]
  },
  {
   "cell_type": "code",
   "execution_count": 40,
   "id": "67287cc9",
   "metadata": {},
   "outputs": [],
   "source": [
    "from random import randrange\n",
    "\n",
    "class FunnyDice:\n",
    "    def throw(self): # 랜덤으로 숫자 나오게 함\n",
    "        self.index = randrange(0, self.n)\n",
    "        self.val = self.numbers[self.index]\n",
    "    \n",
    "    def getval(self): # 주사위 눈의 값 얻을 수 있도록\n",
    "        return self.val"
   ]
  },
  {
   "cell_type": "markdown",
   "id": "8ca90e9a",
   "metadata": {},
   "source": [
    "### setval 메서드"
   ]
  },
  {
   "cell_type": "code",
   "execution_count": 42,
   "id": "f75d05a2",
   "metadata": {},
   "outputs": [],
   "source": [
    "from random import randrange\n",
    "\n",
    "class FunnyDice:\n",
    "    def setval(self, val:int):\n",
    "        if val <= self.n:\n",
    "            sefl.val = val\n",
    "        else:\n",
    "            msg = \"주사위에 없는 숫자입니다. 주사위는 1-{0}까지 있습니다. \".format(self.n)\n",
    "            raise ValueError(msg)"
   ]
  },
  {
   "cell_type": "markdown",
   "id": "9d2056ee",
   "metadata": {},
   "source": [
    "### FunnyDice 전체 코드"
   ]
  },
  {
   "cell_type": "code",
   "execution_count": 43,
   "id": "c4267c20",
   "metadata": {},
   "outputs": [],
   "source": [
    "class FunnyDice:\n",
    "    def __init__(self, n=6):\n",
    "        self.n = int(n)\n",
    "        self.numbers = list(range(1, n+1))\n",
    "        self.index = randrange(0, self.n)\n",
    "        self.val = self.numbers[self.index]\n",
    "    \n",
    "    def throw(self):\n",
    "        self.index = randrange(0, self.n)\n",
    "        self.val = self.numbers[self.index]\n",
    "    \n",
    "    def getval(self):\n",
    "        return self.val\n",
    "\n",
    "    def setval(self, val):\n",
    "        if val <= self.n:\n",
    "            self.val = val\n",
    "    \n",
    "        else:\n",
    "            msg = \"주사위에 없는 숫자입니다. 주사위는 1-{0}까지 있습니다. \".format(self.n)\n",
    "            raise ValueError(msg)"
   ]
  },
  {
   "cell_type": "code",
   "execution_count": 46,
   "id": "493bba4a",
   "metadata": {},
   "outputs": [
    {
     "name": "stdout",
     "output_type": "stream",
     "text": [
      "5\n"
     ]
    },
    {
     "ename": "ValueError",
     "evalue": "주사위에 없는 숫자입니다. 주사위는 1-6까지 있습니다. ",
     "output_type": "error",
     "traceback": [
      "\u001b[0;31m---------------------------------------------------------------------------\u001b[0m",
      "\u001b[0;31mValueError\u001b[0m                                Traceback (most recent call last)",
      "\u001b[0;32m/tmp/ipykernel_47/3057776345.py\u001b[0m in \u001b[0;36m<module>\u001b[0;34m\u001b[0m\n\u001b[1;32m      2\u001b[0m \u001b[0mdice1\u001b[0m\u001b[0;34m.\u001b[0m\u001b[0mthrow\u001b[0m\u001b[0;34m(\u001b[0m\u001b[0;34m)\u001b[0m\u001b[0;34m\u001b[0m\u001b[0;34m\u001b[0m\u001b[0m\n\u001b[1;32m      3\u001b[0m \u001b[0mprint\u001b[0m\u001b[0;34m(\u001b[0m\u001b[0mdice1\u001b[0m\u001b[0;34m.\u001b[0m\u001b[0mgetval\u001b[0m\u001b[0;34m(\u001b[0m\u001b[0;34m)\u001b[0m\u001b[0;34m)\u001b[0m\u001b[0;34m\u001b[0m\u001b[0;34m\u001b[0m\u001b[0m\n\u001b[0;32m----> 4\u001b[0;31m \u001b[0mdice1\u001b[0m\u001b[0;34m.\u001b[0m\u001b[0msetval\u001b[0m\u001b[0;34m(\u001b[0m\u001b[0;36m7\u001b[0m\u001b[0;34m)\u001b[0m\u001b[0;34m\u001b[0m\u001b[0;34m\u001b[0m\u001b[0m\n\u001b[0m",
      "\u001b[0;32m/tmp/ipykernel_47/2917579683.py\u001b[0m in \u001b[0;36msetval\u001b[0;34m(self, val)\u001b[0m\n\u001b[1;32m     19\u001b[0m         \u001b[0;32melse\u001b[0m\u001b[0;34m:\u001b[0m\u001b[0;34m\u001b[0m\u001b[0;34m\u001b[0m\u001b[0m\n\u001b[1;32m     20\u001b[0m             \u001b[0mmsg\u001b[0m \u001b[0;34m=\u001b[0m \u001b[0;34m\"주사위에 없는 숫자입니다. 주사위는 1-{0}까지 있습니다. \"\u001b[0m\u001b[0;34m.\u001b[0m\u001b[0mformat\u001b[0m\u001b[0;34m(\u001b[0m\u001b[0mself\u001b[0m\u001b[0;34m.\u001b[0m\u001b[0mn\u001b[0m\u001b[0;34m)\u001b[0m\u001b[0;34m\u001b[0m\u001b[0;34m\u001b[0m\u001b[0m\n\u001b[0;32m---> 21\u001b[0;31m             \u001b[0;32mraise\u001b[0m \u001b[0mValueError\u001b[0m\u001b[0;34m(\u001b[0m\u001b[0mmsg\u001b[0m\u001b[0;34m)\u001b[0m\u001b[0;34m\u001b[0m\u001b[0;34m\u001b[0m\u001b[0m\n\u001b[0m",
      "\u001b[0;31mValueError\u001b[0m: 주사위에 없는 숫자입니다. 주사위는 1-6까지 있습니다. "
     ]
    }
   ],
   "source": [
    "dice1 = FunnyDice()\n",
    "dice1.throw()\n",
    "print(dice1.getval())\n",
    "dice1.setval(7) # 에러"
   ]
  },
  {
   "cell_type": "markdown",
   "id": "5ce1a247",
   "metadata": {},
   "source": [
    "### get_inputs() 함수 만들기"
   ]
  },
  {
   "cell_type": "code",
   "execution_count": 47,
   "id": "ff10324f",
   "metadata": {},
   "outputs": [],
   "source": [
    "def get_inputs():\n",
    "    n = int(input('주사위 면의 개수를 입력하세요: '))\n",
    "    return n"
   ]
  },
  {
   "cell_type": "code",
   "execution_count": 49,
   "id": "7c1328fe",
   "metadata": {},
   "outputs": [
    {
     "name": "stdout",
     "output_type": "stream",
     "text": [
      "주사위 면의 개수를 입력하세요: 12\n",
      "행운의 숫자는? 7\n"
     ]
    }
   ],
   "source": [
    "# funnydice.py\n",
    "\n",
    "from random import randrange\n",
    "\n",
    "class FunnyDice:\n",
    "    def __init__(self, n=6):\n",
    "        self.n = int(n)\n",
    "        self.numbers = list(range(1, n+1))\n",
    "        self.index = randrange(0, self.n)\n",
    "        self.val = self.numbers[self.index]\n",
    "    \n",
    "    def throw(self):\n",
    "        self.index = randrange(0, self.n)\n",
    "        self.val = self.numbers[self.index]\n",
    "    \n",
    "    def getval(self):\n",
    "        return self.val\n",
    "\n",
    "    def setval(self, val):\n",
    "        if val <= self.n:\n",
    "            self.val = val\n",
    "    \n",
    "        else:\n",
    "            msg = \"주사위에 없는 숫자입니다. 주사위는 1-{0}까지 있습니다. \".format(self.n)\n",
    "            raise ValueError(msg)\n",
    "\n",
    "def get_inputs():\n",
    "    n = int(input('주사위 면의 개수를 입력하세요: '))\n",
    "    return n\n",
    "\n",
    "def main():\n",
    "    n = get_inputs()\n",
    "    mydice = FunnyDice(n)\n",
    "    mydice.throw()\n",
    "    print('행운의 숫자는? {}'.format(mydice.getval()))\n",
    "\n",
    "if __name__ == '__main__':\n",
    "    main()\n",
    "    "
   ]
  },
  {
   "cell_type": "code",
   "execution_count": null,
   "id": "703028c3",
   "metadata": {},
   "outputs": [],
   "source": []
  },
  {
   "cell_type": "code",
   "execution_count": null,
   "id": "89e5a673",
   "metadata": {},
   "outputs": [],
   "source": []
  },
  {
   "cell_type": "code",
   "execution_count": null,
   "id": "58acd9c8",
   "metadata": {},
   "outputs": [],
   "source": []
  },
  {
   "cell_type": "code",
   "execution_count": null,
   "id": "1dc0d4df",
   "metadata": {},
   "outputs": [],
   "source": []
  },
  {
   "cell_type": "code",
   "execution_count": null,
   "id": "0f6faaa6",
   "metadata": {},
   "outputs": [],
   "source": []
  },
  {
   "cell_type": "code",
   "execution_count": null,
   "id": "9b667e28",
   "metadata": {},
   "outputs": [],
   "source": []
  },
  {
   "cell_type": "code",
   "execution_count": null,
   "id": "477a3035",
   "metadata": {},
   "outputs": [],
   "source": []
  },
  {
   "cell_type": "code",
   "execution_count": null,
   "id": "d0e22e50",
   "metadata": {},
   "outputs": [],
   "source": []
  },
  {
   "cell_type": "code",
   "execution_count": null,
   "id": "c41f7993",
   "metadata": {},
   "outputs": [],
   "source": []
  },
  {
   "cell_type": "code",
   "execution_count": null,
   "id": "772c9db0",
   "metadata": {},
   "outputs": [],
   "source": []
  },
  {
   "cell_type": "code",
   "execution_count": null,
   "id": "d49e7e40",
   "metadata": {},
   "outputs": [],
   "source": []
  },
  {
   "cell_type": "code",
   "execution_count": null,
   "id": "25f32d70",
   "metadata": {},
   "outputs": [],
   "source": []
  },
  {
   "cell_type": "code",
   "execution_count": null,
   "id": "36f18da2",
   "metadata": {},
   "outputs": [],
   "source": []
  },
  {
   "cell_type": "code",
   "execution_count": null,
   "id": "fe2c03b7",
   "metadata": {},
   "outputs": [],
   "source": []
  },
  {
   "cell_type": "code",
   "execution_count": null,
   "id": "95f4dd41",
   "metadata": {},
   "outputs": [],
   "source": []
  },
  {
   "cell_type": "code",
   "execution_count": null,
   "id": "e601144e",
   "metadata": {},
   "outputs": [],
   "source": []
  },
  {
   "cell_type": "code",
   "execution_count": null,
   "id": "c9f6007b",
   "metadata": {},
   "outputs": [],
   "source": []
  },
  {
   "cell_type": "code",
   "execution_count": null,
   "id": "9700f538",
   "metadata": {},
   "outputs": [],
   "source": []
  },
  {
   "cell_type": "code",
   "execution_count": null,
   "id": "ccf9b0d1",
   "metadata": {},
   "outputs": [],
   "source": []
  },
  {
   "cell_type": "code",
   "execution_count": null,
   "id": "6e8f816f",
   "metadata": {},
   "outputs": [],
   "source": []
  },
  {
   "cell_type": "code",
   "execution_count": null,
   "id": "f7a8d0aa",
   "metadata": {},
   "outputs": [],
   "source": []
  },
  {
   "cell_type": "code",
   "execution_count": null,
   "id": "dca9a70f",
   "metadata": {},
   "outputs": [],
   "source": []
  },
  {
   "cell_type": "code",
   "execution_count": null,
   "id": "01c2a030",
   "metadata": {},
   "outputs": [],
   "source": []
  }
 ],
 "metadata": {
  "kernelspec": {
   "display_name": "Python 3 (ipykernel)",
   "language": "python",
   "name": "python3"
  },
  "language_info": {
   "codemirror_mode": {
    "name": "ipython",
    "version": 3
   },
   "file_extension": ".py",
   "mimetype": "text/x-python",
   "name": "python",
   "nbconvert_exporter": "python",
   "pygments_lexer": "ipython3",
   "version": "3.9.7"
  }
 },
 "nbformat": 4,
 "nbformat_minor": 5
}
